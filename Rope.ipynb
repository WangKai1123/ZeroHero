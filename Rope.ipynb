{
 "cells": [
  {
   "cell_type": "code",
   "execution_count": 1,
   "metadata": {},
   "outputs": [
    {
     "name": "stdout",
     "output_type": "stream",
     "text": [
      "tensor([[ 0.5850, -0.8306,  0.4033,  ..., -0.4460, -0.6016, -0.8218],\n",
      "        [ 0.4072, -0.9561,  0.4172,  ...,  2.0762,  0.3533,  1.2109],\n",
      "        [ 0.2764, -0.7036, -0.3201,  ..., -0.3127,  1.8330, -1.2051],\n",
      "        ...,\n",
      "        [ 1.5283,  0.2014,  1.2100,  ...,  1.5332,  0.0132,  0.5732],\n",
      "        [ 0.4705,  1.6533, -0.0234,  ..., -1.8076,  1.7295, -0.9458],\n",
      "        [ 1.7002, -1.1611,  0.6050,  ...,  0.3103,  0.2908, -1.9131]],\n",
      "       dtype=torch.float16)\n"
     ]
    }
   ],
   "source": [
    "import torch\n",
    "import numpy\n",
    "from matplotlib import pyplot as plt\n",
    "\n",
    "#设置张量的形状和数据类型\n",
    "shape = (24,128)\n",
    "dtype = torch.float16\n",
    "\n",
    "# 生成张量\n",
    "\n",
    "Q_data = torch.randn(*shape,dtype=dtype)\n",
    "print(Q_data)"
   ]
  },
  {
   "cell_type": "code",
   "execution_count": null,
   "metadata": {},
   "outputs": [
    {
     "name": "stdout",
     "output_type": "stream",
     "text": [
      "torch.Size([24, 64, 2])\n"
     ]
    }
   ],
   "source": [
    "#这个是保留第一个为batch纬度，最后一个纬度为2\n",
    "Q_data_token_split_into_pairs = Q_data.float().view(Q_data.shape[0],-1,2)\n",
    "print(Q_data_token_split_into_pairs.shape)"
   ]
  },
  {
   "cell_type": "code",
   "execution_count": null,
   "metadata": {},
   "outputs": [],
   "source": []
  }
 ],
 "metadata": {
  "kernelspec": {
   "display_name": "pytorch",
   "language": "python",
   "name": "python3"
  },
  "language_info": {
   "codemirror_mode": {
    "name": "ipython",
    "version": 3
   },
   "file_extension": ".py",
   "mimetype": "text/x-python",
   "name": "python",
   "nbconvert_exporter": "python",
   "pygments_lexer": "ipython3",
   "version": "3.11.10"
  }
 },
 "nbformat": 4,
 "nbformat_minor": 2
}
